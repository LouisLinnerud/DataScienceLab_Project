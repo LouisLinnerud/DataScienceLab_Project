{
 "cells": [
  {
   "cell_type": "markdown",
   "metadata": {},
   "source": [
    "## Note\n",
    "Trying out different models and paramaters to see which performs the best"
   ]
  },
  {
   "cell_type": "code",
   "execution_count": 59,
   "metadata": {},
   "outputs": [],
   "source": [
    "import pandas as pd\n",
    "from sklearn.model_selection import train_test_split"
   ]
  },
  {
   "cell_type": "code",
   "execution_count": 206,
   "metadata": {},
   "outputs": [],
   "source": [
    "# Loading the evaluation data\n",
    "df = pd.read_csv(\"../csv_files/development.csv\")"
   ]
  },
  {
   "cell_type": "code",
   "execution_count": 207,
   "metadata": {},
   "outputs": [],
   "source": [
    "## Reducing the dataset to X percent of original size to speed up model testing\n",
    "# df = df.sample(frac=0.10)"
   ]
  },
  {
   "cell_type": "code",
   "execution_count": 208,
   "metadata": {},
   "outputs": [],
   "source": [
    "## Filter out values outside 0.03 and 0.97 percentile \n",
    "\n",
    "# def filter_by_percentile(df, lower_quantile=0.03, upper_quantile=0.97):\n",
    "#     for col in df.columns:\n",
    "#         if col == \"x\" or col == \"y\":\n",
    "#             continue\n",
    "#         # Calculate the quantiles for each column\n",
    "#         lower_bound = df[col].quantile(lower_quantile)\n",
    "#         upper_bound = df[col].quantile(upper_quantile)\n",
    "\n",
    "#         # Filter the DataFrame by the quantile range\n",
    "#         df = df[(df[col] >= lower_bound) & (df[col] <= upper_bound)]\n",
    "\n",
    "#     return df\n",
    "\n",
    "# df = filter_by_percentile(df) ## Doesn't seem to work as is\n",
    "\n",
    "# def limit_by_percentile(df, lower_quantile=0.03, upper_quantile=0.97):\n",
    "#     for col in df.columns:\n",
    "#         if col == \"x\" or col == \"y\":\n",
    "#             continue\n",
    "\n",
    "#         # Calculate the quantiles for each column\n",
    "#         lower_bound = df[col].quantile(lower_quantile)\n",
    "#         upper_bound = df[col].quantile(upper_quantile)\n",
    "\n",
    "#         # Limit the DataFrame values by the quantile range\n",
    "#         df[col] = df[col].clip(lower=lower_bound, upper=upper_bound)\n",
    "#     return df\n",
    "\n",
    "# df = limit_by_percentile(df)"
   ]
  },
  {
   "cell_type": "code",
   "execution_count": 209,
   "metadata": {},
   "outputs": [],
   "source": [
    "# Extracting the positions, removes the x and y column and splitting the data into train and validation set\n",
    "def extracting_positions(df):\n",
    "    pos = []\n",
    "    for i in range(len(df)):\n",
    "        pos.append([df[\"x\"].iloc[i], df[\"y\"].iloc[i]])\n",
    "    return pos\n",
    "\n",
    "pos = extracting_positions(df)\n",
    "\n",
    "## Dropping data from x and y \n",
    "df.drop([\"x\", \"y\"], axis=1, inplace=True)\n"
   ]
  },
  {
   "cell_type": "code",
   "execution_count": 210,
   "metadata": {},
   "outputs": [],
   "source": [
    "## Removing pads with format: pads = [\"0\", \"7\", \"12\", ..]\n",
    "def drop_pads(df, pads):\n",
    "    cols_to_drop = [col for col in df.columns if any(idx in col for idx in pads)]\n",
    "    df_removed = df.drop(cols_to_drop, axis=1)    \n",
    "    return df_removed\n",
    "\n",
    "remove_pads = [\"0\", \"7\", \"12\", \"15\", \"16\", \"17\"]\n",
    "df_removed_noise = drop_pads(df, remove_pads)"
   ]
  },
  {
   "cell_type": "code",
   "execution_count": 211,
   "metadata": {},
   "outputs": [],
   "source": [
    "## Removing rms feature\n",
    "def drop_rms_features(df):\n",
    "    # Extract columns that start with 'rms'\n",
    "    rms_columns = [col for col in df.columns if not col.startswith('rms')]\n",
    "\n",
    "    # Create a new DataFrame without 'rms' columns\n",
    "    df_without_rms = df[rms_columns] \n",
    "    return df_without_rms\n",
    "\n",
    "df_interesting_data = drop_rms_features(df_removed_noise)"
   ]
  },
  {
   "cell_type": "code",
   "execution_count": 212,
   "metadata": {},
   "outputs": [
    {
     "name": "stderr",
     "output_type": "stream",
     "text": [
      "/var/folders/v9/41dk4qp51lvfpqp970zc01hr0000gn/T/ipykernel_76920/2401980542.py:2: SettingWithCopyWarning: \n",
      "A value is trying to be set on a copy of a slice from a DataFrame.\n",
      "Try using .loc[row_indexer,col_indexer] = value instead\n",
      "\n",
      "See the caveats in the documentation: https://pandas.pydata.org/pandas-docs/stable/user_guide/indexing.html#returning-a-view-versus-a-copy\n",
      "  df_interesting_data['pmax_times_area_pad[5]'] = df_interesting_data[\"pmax[5]\"] * df_interesting_data[\"area[5]\"]\n"
     ]
    }
   ],
   "source": [
    "## Adding an extra column where pmax and area are multiplied with each other\n",
    "df_interesting_data['pmax_times_area_pad[5]'] = df_interesting_data[\"pmax[5]\"] * df_interesting_data[\"area[5]\"]"
   ]
  },
  {
   "cell_type": "code",
   "execution_count": 213,
   "metadata": {},
   "outputs": [],
   "source": [
    "## Splitting into train and validation set\n",
    "X_train, X_val, pos_train, pos_val = train_test_split(df_interesting_data, pos, test_size=0.2, random_state=42)"
   ]
  },
  {
   "cell_type": "markdown",
   "metadata": {},
   "source": [
    "## RandomForestRegressor"
   ]
  },
  {
   "cell_type": "code",
   "execution_count": 214,
   "metadata": {},
   "outputs": [],
   "source": [
    "# RandomForestRegressor\n",
    "from sklearn.multioutput import MultiOutputRegressor\n",
    "from sklearn.ensemble import RandomForestRegressor\n",
    "from sklearn.feature_selection import RFE\n",
    "from sklearn.decomposition import PCA\n",
    "from sklearn.preprocessing import RobustScaler\n",
    "from sklearn.pipeline import Pipeline\n",
    "import math\n",
    "from sklearn.feature_selection import SelectFromModel\n",
    "\n",
    "def avg_euc_dist(pos_val, pos_pred):\n",
    "    sum_square = 0\n",
    "    for i in range(len(pos_val)):\n",
    "        sum_square += math.sqrt((pos_val[i][0]-pos_pred[i][0])**2 + (pos_val[i][1]-pos_pred[i][1])**2)\n",
    "    return sum_square/len(pos_val) \n",
    "\n",
    "\n",
    "numb_trees = 25\n",
    "base_regressor = RandomForestRegressor(n_estimators=numb_trees, criterion=\"poisson\") \n",
    "\n",
    "# scaler = RobustScaler(quantile_range=(0.03, 0.97))\n",
    "mult_regr = MultiOutputRegressor(base_regressor)\n",
    "\n",
    "pipeline = Pipeline([\n",
    "    # ('scaler', scaler),\n",
    "    ('regressor', mult_regr),\n",
    "])\n",
    "\n",
    "pipeline.fit(X_train, pos_train)\n",
    "pos_pred = pipeline.predict(X_val)"
   ]
  },
  {
   "cell_type": "code",
   "execution_count": 117,
   "metadata": {},
   "outputs": [
    {
     "data": {
      "image/png": "[encoded data removed]",
      "text/plain": [
       "<Figure size 1000x600 with 1 Axes>"
      ]
     },
     "metadata": {},
     "output_type": "display_data"
    }
   ],
   "source": [
    "import matplotlib.pyplot as plt \n",
    "plt.figure(figsize=(10, 6))\n",
    "plt.plot(n_trees, performance_score, marker='o')  # 'o' creates circular markers at each data point\n",
    "plt.title('Avg_euclidian_distance vs Number of Trees')\n",
    "plt.xlabel('Number of Trees')\n",
    "plt.ylabel('Avg_euclidian_distance')\n",
    "plt.grid(True)\n",
    "plt.show()"
   ]
  },
  {
   "cell_type": "code",
   "execution_count": 216,
   "metadata": {},
   "outputs": [],
   "source": [
    "## Avg_euc_dist vs. numb of regression trees\n",
    "## Should be run on ~10% of the data for the code to run within reasonable time. \n",
    "\n",
    "# import math\n",
    "# def avg_euc_dist(pos_val, pos_pred):\n",
    "#     sum_square = 0\n",
    "#     for i in range(len(pos_val)):\n",
    "#         sum_square += math.sqrt((pos_val[i][0]-pos_pred[i][0])**2 + (pos_val[i][1]-pos_pred[i][1])**2)\n",
    "#     return sum_square/len(pos_val)   \n",
    "\n",
    "\n",
    "# performance_score = []\n",
    "# n_trees = [5, 10, 20, 35, 50, 75, 100]\n",
    "\n",
    "# for i in n_trees:\n",
    "#     print(i)\n",
    "#     numb_trees = n_trees[i]\n",
    "#     base_regressor = RandomForestRegressor(n_estimators=numb_trees)\n",
    "#     mult_regr = MultiOutputRegressor(base_regressor)\n",
    "#     mult_regr.fit(X_train, pos_train)\n",
    "#     pos_pred = mult_regr.predict(X_val)\n",
    "#     avg_dist = avg_euc_dist(pos_val, pos_pred)\n",
    "#     performance_score.append(avg_dist)\n",
    "\n",
    "    "
   ]
  },
  {
   "cell_type": "code",
   "execution_count": 215,
   "metadata": {},
   "outputs": [
    {
     "name": "stdout",
     "output_type": "stream",
     "text": [
      "Mean absolute error = 3.41\n",
      "Mean squared error = 23.21\n",
      "Median absolute error = 2.5\n",
      "Explain variance score = 1.0\n",
      "R2 score = 1.0\n",
      "Mean eucledian distance = 5.42\n"
     ]
    }
   ],
   "source": [
    "# Metrics to evaluating model \n",
    "import sklearn.metrics as sm\n",
    "import math\n",
    "import numpy as np\n",
    "\n",
    "def avg_euc_dist(pos_val, pos_pred):\n",
    "    sum_square = 0\n",
    "    for i in range(len(pos_val)):\n",
    "        sum_square += math.sqrt((pos_val[i][0]-pos_pred[i][0])**2 + (pos_val[i][1]-pos_pred[i][1])**2)\n",
    "    return sum_square/len(pos_val)        \n",
    "\n",
    "def metrics_on_model(pos_val, pos_pred):\n",
    "    print(\"Mean absolute error =\", round(sm.mean_absolute_error(pos_val, pos_pred), 2)) \n",
    "    print(\"Mean squared error =\", round(sm.mean_squared_error(pos_val, pos_pred), 2)) \n",
    "    print(\"Median absolute error =\", round(sm.median_absolute_error(pos_val, pos_pred), 2)) \n",
    "    print(\"Explain variance score =\", round(sm.explained_variance_score(pos_val, pos_pred), 2)) \n",
    "    print(\"R2 score =\", round(sm.r2_score(pos_val, pos_pred), 2))\n",
    "    print(\"Mean eucledian distance =\", round(avg_euc_dist(pos_val, pos_pred), 2))\n",
    "\n",
    "metrics_on_model(pos_val, pos_pred)"
   ]
  },
  {
   "cell_type": "markdown",
   "metadata": {},
   "source": [
    "## Results:\n",
    "\n",
    "Test 1:  \n",
    "    Data: reomving pads (0, 7, 12, 15, 16, 17)  \n",
    "    Number of trees: 10   \n",
    "    Mean euc dist: 5.77  \n",
    "\n",
    "Test 2:  \n",
    "    Data: reomving pads (0, 7, 12, 15, 16, 17) and removing rms feature  \n",
    "    Number of trees: 10  \n",
    "    Mean euc dist: 5.69\n",
    "\n",
    "Test 3:    \n",
    "    Data: Sampeled 25% of the data to speed up model training. Reomving pads (0, 7, 12, 15, 16, 17) and removing rms feature.  \n",
    "    Number of trees: 10  \n",
    "    Mean euc dist: 6.56  \n",
    "\n",
    "Test 4:    \n",
    "    Data: Sampeled 25% of the data to speed up model training. Reomving pads (0, 7, 12, 15, 16, 17) and removing rms feature.  \n",
    "    Number of trees: 30  \n",
    "    Mean euc dist: 6.16  \n",
    "\n",
    "Test 4:    \n",
    "    Data: With PCA. Sampeled 25% of the data to speed up model training. Reomving pads (0, 7, 12, 15, 16, 17) and removing rms feature.  \n",
    "    Number of trees: 30  \n",
    "    Mean euc dist: 10.29\n",
    "\n",
    "Test 5:        \n",
    "    Data: Reomving pads (0, 7, 12, 15, 16, 17) and removing rms feature. Added RobustScaling.   \n",
    "    Number of trees: 50  \n",
    "    Mean euc dist: 5.31  \n",
    "\n",
    "Test 6:  \n",
    "    Data: Reomving pads (0, 7, 12, 15, 16, 17) and removing rms feature. Added column: pmax[5]*area[5] \n",
    "    Number of trees: 30  \n",
    "    Mean euc dist: 6.11\n",
    "\n",
    "Test 7:   \n",
    "    Data: Reomving pads (0, 7, 12, 15, 16, 17) and removing rms feature.  \n",
    "    Number of trees: 30  \n",
    "    Mean euc dist:  \n",
    "\n",
    " "
   ]
  },
  {
   "cell_type": "markdown",
   "metadata": {},
   "source": [
    "## Using the multiple_reg_model on the evaluation set"
   ]
  },
  {
   "cell_type": "code",
   "execution_count": 217,
   "metadata": {},
   "outputs": [],
   "source": [
    "ev_data = pd.read_csv(\"../csv_files/evaluation.csv\")"
   ]
  },
  {
   "cell_type": "code",
   "execution_count": 218,
   "metadata": {},
   "outputs": [],
   "source": [
    "# Extracting the ID\n",
    "eval_id = ev_data[\"Id\"]\n",
    "\n",
    "# Dropping the Id column from the ev_data\n",
    "ev_data.drop([\"Id\"], axis=1, inplace=True)"
   ]
  },
  {
   "cell_type": "code",
   "execution_count": 219,
   "metadata": {},
   "outputs": [],
   "source": [
    "# Formatting the position array to a string to be used in the .csv file \n",
    "def pred_to_string(prediction_array):\n",
    "    pred_column = []\n",
    "    for i in range(len(prediction_array)):\n",
    "        pos_string = (str(prediction_array[i][0]) + \"|\" + str(prediction_array[i][1]))\n",
    "        pred_column.append(pos_string)\n",
    "    return pred_column\n",
    "        "
   ]
  },
  {
   "cell_type": "code",
   "execution_count": 220,
   "metadata": {},
   "outputs": [],
   "source": [
    "remove_pads = [\"0\", \"7\", \"12\", \"15\", \"16\", \"17\"]\n",
    "ev_data = drop_pads(ev_data, remove_pads)"
   ]
  },
  {
   "cell_type": "code",
   "execution_count": 221,
   "metadata": {},
   "outputs": [],
   "source": [
    "ev_data = drop_rms_features(ev_data)"
   ]
  },
  {
   "cell_type": "code",
   "execution_count": 222,
   "metadata": {},
   "outputs": [],
   "source": [
    "ev_data['pmax_times_area_pad[5]'] = ev_data[\"pmax[5]\"] * ev_data[\"area[5]\"]"
   ]
  },
  {
   "cell_type": "code",
   "execution_count": 223,
   "metadata": {},
   "outputs": [],
   "source": [
    "# Predicting the evaluation results\n",
    "mult_regr_eval = pipeline.predict(ev_data)\n",
    "pos_pred = pred_to_string(mult_regr_eval) # Formatting the predictions "
   ]
  },
  {
   "cell_type": "code",
   "execution_count": 224,
   "metadata": {},
   "outputs": [],
   "source": [
    "# Creating a df and .csv file to be submitted. Saved in submission_file folder\n",
    "mult_reg_submission = pd.DataFrame({'Id': eval_id, 'Predicted': pos_pred})\n",
    "mult_reg_submission.to_csv(\"../DataScienceLab_Project/submission_files/mult_reg_rand_forest_with_added_feature.csv\", index=False)"
   ]
  },
  {
   "cell_type": "code",
   "execution_count": null,
   "metadata": {},
   "outputs": [],
   "source": []
  }
 ],
 "metadata": {
  "kernelspec": {
   "display_name": ".venv",
   "language": "python",
   "name": "python3"
  },
  "language_info": {
   "codemirror_mode": {
    "name": "ipython",
    "version": 3
   },
   "file_extension": ".py",
   "mimetype": "text/x-python",
   "name": "python",
   "nbconvert_exporter": "python",
   "pygments_lexer": "ipython3",
   "version": "3.11.6"
  }
 },
 "nbformat": 4,
 "nbformat_minor": 2
}
