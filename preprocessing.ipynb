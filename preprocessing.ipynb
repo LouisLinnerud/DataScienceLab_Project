{
 "cells": [
  {
   "cell_type": "markdown",
   "metadata": {},
   "source": [
    "## Note\n",
    "Preprocessing the data. Should look into data reduction (sampling, feature selection, discretication, dimensional reduction) and maybe aggeregation"
   ]
  },
  {
   "cell_type": "code",
   "execution_count": null,
   "metadata": {},
   "outputs": [],
   "source": []
  }
 ],
 "metadata": {
  "language_info": {
   "name": "python"
  }
 },
 "nbformat": 4,
 "nbformat_minor": 2
}
